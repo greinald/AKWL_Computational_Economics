{
 "cells": [
  {
   "cell_type": "markdown",
   "id": "faf73a34",
   "metadata": {},
   "source": [
    "# Replicating *Why Do Couples and Singles Save during Retirement?* – Model Setup  \n",
    "This notebook walks through a step‑by‑step replication of the structural life‑cycle model developed by De Nardi et al. (2025).  \n",
    "\n",
    "**Goal of this first step**\n",
    "\n",
    "* Gather every constant that the authors calibrate or estimate (as reported in Table 5 and in the text)  \n",
    "* Define them in a single `parameters` dictionary we can reuse later  \n",
    "\n",
    "**Paper reference**\n",
    "> cite: De Nardi, M., E. French, J. B. Jones & R. McGee (2025): “Why Do Couples and Singles Save during Retirement? Household Heterogeneity and Its Aggregate Implications”, *Journal of Political Economy*, 133(3). \n",
    " \n"
   ]
  },
  {
   "cell_type": "markdown",
   "id": "610ce9cd",
   "metadata": {},
   "source": [
    "## Core preference and policy parameters  \n",
    "\n",
    "| Symbol | Meaning | Value |\n",
    "|--------|---------|-------|\n",
    "| $h$ | Consumption‑equivalence scale (couples vs singles) | 1.528 |\n",
    "| $\\rho$ | Coefficient of relative risk aversion ($n$ in the paper) | 3.701 |\n",
    "| $\\phi_0$ | Bequest intensity when **no** survivor | 6 826 (×10³) |\n",
    "| $\\kappa_0$ | Bequest curvature when **no** survivor | 3 517 (×10³) |\n",
    "| $\\phi_1$ | Bequest intensity when a **surviving spouse** exists | 4 447 |\n",
    "| $\\kappa_1$ | Bequest curvature when a **surviving spouse** exists | 211.2 (×10³) |\n",
    "| $c_{\\min}^{S}$ | Annual consumption floor – singles | \\$4 101 |\n",
    "| $c_{\\min}^{C}$ | Couples’ floor | 1.5 × $c_{\\min}^{S}$ |\n",
    "| $\\beta$ | Annual discount factor | 0.97 |\n",
    "| $\\beta_{2y}$ | Two‑year discount factor (model period) | $0.97^{2}=0.9409$ |\n",
    "\n",
    "> **Note:** The paper states only that the real pretax return $r$ is “constant” but does not pin down its value.  \n",
    "We leave it as a to‑do placeholder and will set it once we locate it in the appendices.  \n"
   ]
  },
  {
   "cell_type": "code",
   "execution_count": 4,
   "metadata": {},
   "outputs": [],
   "source": [
    "import math\n",
    "import numpy as np\n",
    "import pandas as pd"
   ]
  },
  {
   "cell_type": "code",
   "execution_count": 5,
   "id": "bfb25557",
   "metadata": {},
   "outputs": [],
   "source": [
    "\n",
    "# --- Core parameters (from Table 5) ---\n",
    "parameters = {\n",
    "    # Preference\n",
    "    \"beta_annual\": 0.97,                     # annual discount factor\n",
    "    \"beta\": 0.97 ** 2,                       # two‑year period (AHEAD wave spacing)\n",
    "    \"h\": 1.528,                              # equivalence scale\n",
    "    \"rho\": 3.701,                            # CRRA (n in paper)\n",
    "    # Bequest function v_j(b) = phi_j * (b + kappa_j)^(1 - rho) / (1 - rho)\n",
    "    \"phi0\": 6_826_000,                       # intensity – terminal bequests\n",
    "    \"kappa0\": 3_517_000,                     # curvature – terminal bequests\n",
    "    \"phi1\": 4_447_000,                       # intensity – side bequests\n",
    "    \"kappa1\": 211_200,                       # curvature – side bequests\n",
    "    # Consumption floor\n",
    "    \"cmin_single_annual\": 4_101,\n",
    "    \"cmin_couple_annual\": 1.5 * 4_101,\n",
    "    # Placeholder for economic environment\n",
    "    \"r\": None,                             \n",
    "}"
   ]
  },
  {
   "cell_type": "code",
   "execution_count": 7,
   "metadata": {},
   "outputs": [],
   "source": [
    "# fill in the missing pretax return (2 % real annual ⇒ 2‑year gross factor ≈ 1.0404)\n",
    "parameters[\"r_annual\"] = 0.02\n",
    "parameters[\"R\"]        = (1 + parameters[\"r_annual\"]) ** 2      # two‑year gross factor#"
   ]
  },
  {
   "cell_type": "code",
   "execution_count": 9,
   "metadata": {},
   "outputs": [
    {
     "name": "stdout",
     "output_type": "stream",
     "text": [
      "{'beta_annual': 0.97, 'beta': 0.9409, 'h': 1.528, 'rho': 3.701, 'phi0': 6826000, 'kappa0': 3517000, 'phi1': 4447000, 'kappa1': 211200, 'cmin_single_annual': 4101, 'cmin_couple_annual': 6151.5, 'r': None, 'r_annual': 0.02, 'R': 1.0404}\n"
     ]
    }
   ],
   "source": [
    "print(parameters)"
   ]
  },
  {
   "cell_type": "markdown",
   "metadata": {},
   "source": [
    "### Utility & bequest functions\n",
    "The paper uses CRRA utility and the “ luxury‑good ” bequest specification  \n",
    "$\n",
    "u^S(c)=\\\\frac{c^{1-\\\\rho}}{1-\\\\rho},\\\\qquad  \n",
    "u^C(c)=2\\\\,\\\\frac{\\\\bigl(c/h\\\\bigr)^{1-\\\\rho}}{1-\\\\rho},\\\\qquad  \n",
    "v_j(b)=\\\\phi_j\\\\,\\\\frac{(b+\\\\kappa_j)^{1-\\\\rho}}{1-\\\\rho},\\\\;j\\\\in\\\\{0,1\\\\}\n",
    "$"
   ]
  },
  {
   "cell_type": "code",
   "execution_count": 10,
   "metadata": {},
   "outputs": [
    {
     "ename": "NameError",
     "evalue": "name 'rho' is not defined",
     "output_type": "error",
     "traceback": [
      "\u001b[0;31m---------------------------------------------------------------------------\u001b[0m",
      "\u001b[0;31mNameError\u001b[0m                                 Traceback (most recent call last)",
      "\u001b[1;32m/Users/greinaldpappa/Downloads/retiree_saving_model.ipynb Cell 8\u001b[0m line \u001b[0;36m2\n\u001b[1;32m     <a href='vscode-notebook-cell:/Users/greinaldpappa/Downloads/retiree_saving_model.ipynb#X11sZmlsZQ%3D%3D?line=17'>18</a>\u001b[0m     \u001b[39mreturn\u001b[39;00m phi \u001b[39m*\u001b[39m ((b \u001b[39m+\u001b[39m k) \u001b[39m*\u001b[39m\u001b[39m*\u001b[39m (\u001b[39m1\u001b[39m \u001b[39m-\u001b[39m rho)) \u001b[39m/\u001b[39m (\u001b[39m1\u001b[39m \u001b[39m-\u001b[39m rho)\n\u001b[1;32m     <a href='vscode-notebook-cell:/Users/greinaldpappa/Downloads/retiree_saving_model.ipynb#X11sZmlsZQ%3D%3D?line=19'>20</a>\u001b[0m \u001b[39m# quick sanity check\u001b[39;00m\n\u001b[0;32m---> <a href='vscode-notebook-cell:/Users/greinaldpappa/Downloads/retiree_saving_model.ipynb#X11sZmlsZQ%3D%3D?line=20'>21</a>\u001b[0m \u001b[39mprint\u001b[39m(\u001b[39m\"\u001b[39m\u001b[39mu_S(50k) =\u001b[39m\u001b[39m\"\u001b[39m, u_single(\u001b[39m50_000\u001b[39;49m))\n\u001b[1;32m     <a href='vscode-notebook-cell:/Users/greinaldpappa/Downloads/retiree_saving_model.ipynb#X11sZmlsZQ%3D%3D?line=21'>22</a>\u001b[0m \u001b[39mprint\u001b[39m(\u001b[39m\"\u001b[39m\u001b[39mv0(0)    =\u001b[39m\u001b[39m\"\u001b[39m, v0(\u001b[39m0\u001b[39m))\n",
      "\u001b[1;32m/Users/greinaldpappa/Downloads/retiree_saving_model.ipynb Cell 8\u001b[0m line \u001b[0;36m3\n\u001b[1;32m      <a href='vscode-notebook-cell:/Users/greinaldpappa/Downloads/retiree_saving_model.ipynb#X11sZmlsZQ%3D%3D?line=0'>1</a>\u001b[0m \u001b[39mdef\u001b[39;00m \u001b[39mu_single\u001b[39m(c):\n\u001b[1;32m      <a href='vscode-notebook-cell:/Users/greinaldpappa/Downloads/retiree_saving_model.ipynb#X11sZmlsZQ%3D%3D?line=1'>2</a>\u001b[0m     c \u001b[39m=\u001b[39m np\u001b[39m.\u001b[39mmaximum(c, \u001b[39m1e-10\u001b[39m)\n\u001b[0;32m----> <a href='vscode-notebook-cell:/Users/greinaldpappa/Downloads/retiree_saving_model.ipynb#X11sZmlsZQ%3D%3D?line=2'>3</a>\u001b[0m     \u001b[39mreturn\u001b[39;00m c\u001b[39m*\u001b[39m\u001b[39m*\u001b[39m(\u001b[39m1\u001b[39m \u001b[39m-\u001b[39m rho) \u001b[39m/\u001b[39m (\u001b[39m1\u001b[39m \u001b[39m-\u001b[39m rho)\n",
      "\u001b[0;31mNameError\u001b[0m: name 'rho' is not defined"
     ]
    }
   ],
   "source": [
    "def u_single(c):\n",
    "    c = np.maximum(c, 1e-10)\n",
    "    return c**(1 - rho) / (1 - rho)\n",
    "\n",
    "def u_couple(c):\n",
    "    h = parameters[\"h\"]\n",
    "    c = np.maximum(c, 1e-10)\n",
    "    return 2 * ((c / h) ** (1 - rho)) / (1 - rho)\n",
    "\n",
    "def v0(b):\n",
    "    phi = parameters[\"phi0\"]\n",
    "    k   = parameters[\"kappa0\"]\n",
    "    return phi * ((b + k) ** (1 - rho)) / (1 - rho)\n",
    "\n",
    "def v1(b):\n",
    "    phi = parameters[\"phi1\"]\n",
    "    k   = parameters[\"kappa1\"]\n",
    "    return phi * ((b + k) ** (1 - rho)) / (1 - rho)\n",
    "\n",
    "# quick sanity check\n",
    "print(\"u_S(50k) =\", u_single(50_000))\n",
    "print(\"v0(0)    =\", v0(0))"
   ]
  },
  {
   "cell_type": "code",
   "execution_count": null,
   "metadata": {},
   "outputs": [],
   "source": []
  }
 ],
 "metadata": {
  "kernelspec": {
   "display_name": "Python 3",
   "language": "python",
   "name": "python3"
  },
  "language_info": {
   "codemirror_mode": {
    "name": "ipython",
    "version": 3
   },
   "file_extension": ".py",
   "mimetype": "text/x-python",
   "name": "python",
   "nbconvert_exporter": "python",
   "pygments_lexer": "ipython3",
   "version": "3.11.3"
  }
 },
 "nbformat": 4,
 "nbformat_minor": 5
}
